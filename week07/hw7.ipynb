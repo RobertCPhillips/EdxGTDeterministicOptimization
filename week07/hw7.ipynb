{
 "cells": [
  {
   "cell_type": "markdown",
   "metadata": {},
   "source": [
    "# Homework 7"
   ]
  },
  {
   "cell_type": "markdown",
   "metadata": {},
   "source": [
    "### (a) Consider the following linear program:\n",
    "\n",
    "\\begin{align} \\\\\n",
    "&\\text{min} & -2x_1 - 3x_2 \\\\\n",
    "&\\text{s.t.} & x_1 + x_2 \\le 35 \\\\ \n",
    "&& 3x_1 + 2x_2 \\le 100 \\\\\n",
    "&& 2x_1 + 4x_2 \\le 120 \\\\\n",
    "&& x_1, x_2 \\ge 0 \\\\\n",
    "\\end{align}\n",
    "\n",
    "Below we plot the constraints of this linear program."
   ]
  },
  {
   "cell_type": "code",
   "execution_count": 7,
   "metadata": {},
   "outputs": [
    {
     "data": {
      "image/png": "[encoded data removed]",
      "text/plain": [
       "<Figure size 432x288 with 1 Axes>"
      ]
     },
     "metadata": {
      "needs_background": "light"
     },
     "output_type": "display_data"
    }
   ],
   "source": [
    "import matplotlib.pyplot as plt\n",
    "import numpy as np\n",
    "\n",
    "# x1-values for our plot\n",
    "xmax = 60\n",
    "ymax = 50\n",
    "x1 = np.arange(0, xmax, 0.1)\n",
    "\n",
    "# the constraints to plot\n",
    "c1 = -x1 + 35.\n",
    "c2 = -3./2.*x1 + 100. / 2.\n",
    "c3 = -2./4.*x1 + 120. / 4.\n",
    "\n",
    "# plot the constraints\n",
    "plt.xlim(0, xmax)\n",
    "plt.ylim(0, ymax)\n",
    "plt.plot(x1, c1, x1, c2, x1, c3, label='Feasible Region')\n",
    "plt.legend([r'$x_1 + x_2 <= 35$', r'$3x_1 + 2x_2 <= 100$', r'$2x_1 + 4x_2 <= 120$']);\n",
    "\n",
    "# fill in the feasable region (using a polygon)\n",
    "xp = [0, 0, 10, 30, 100./3.]\n",
    "yp = [0, 30, 25, 5, 0]\n",
    "plt.fill(xp ,yp, color='y');\n",
    "\n",
    "#plot basic solutions (green = feasible, red = not-feasible)\n",
    "plt.plot(xp, yp, 'or', markersize=12, color='green');\n",
    "plt.plot([0,0,20,35,60], [35,50,20,0,0], 'or', markersize=12, color='red');"
   ]
  },
  {
   "cell_type": "markdown",
   "metadata": {},
   "source": [
    "### (b) Transform it into a standard form LP.\n",
    "The objective is already a minimization, so the objective function does not need to be transformed. Each of the 3 constraints are of the same type of inqequality, therefore we just need to add a slack variable for each $(x_3, x_4, x_5)$ constant and change the inequality to an equals.\n",
    "\n",
    "\\begin{align}\n",
    "&\\text{min} & -2x_1 - 3x_2 \\\\\n",
    "&\\text{s.t.} & x_1 + x_2 + x_3 = 35 \\\\ \n",
    "&& 3x_1 + 2x_2 + x_4 = 100 \\\\\n",
    "&& 2x_1 + 4x_2 + x_5 = 120 \\\\\n",
    "&& x_1, x_2, x_3, x_4, x_5 \\ge 0 \\\\ \n",
    "\\end{align}\n",
    "\n",
    "In matrix format this yields the following.\n",
    "\n",
    "$x = \\begin{bmatrix} x_1 & x_2 & x_3 & x_4 & x_5 \\end{bmatrix}^{T} \\\\ \n",
    "c = \\begin{bmatrix} -2 & −3 & 0 & 0 & 0 \\end{bmatrix}^{T} \\\\\n",
    "A = \\begin{bmatrix} 1 & 1 & 1 & 0 & 0 \\\\ 3 & 2 & 0 & 1 & 0 \\\\ 2 & 4 & 0 & 0 & 1 \\end{bmatrix} \\\\\n",
    "b = \\begin{bmatrix} 35 & 100 & 120 \\end{bmatrix}^{T}$"
   ]
  },
  {
   "cell_type": "markdown",
   "metadata": {},
   "source": [
    "### (c) Use the procedure discussed in lecture to find *all* basic solutions.\n",
    "We have 3 constraints therefore we need to pick  3 columns to determine a solution.  To find all basic solutions we need $C(5,3) = 10$. This is too many iterations to perform by hand, so we'll use python to iterate over the column combinations."
   ]
  },
  {
   "cell_type": "code",
   "execution_count": 6,
   "metadata": {},
   "outputs": [
    {
     "name": "stdout",
     "output_type": "stream",
     "text": [
      "column combo count: 10\n",
      "column combo sample: [[0, 1, 2], [0, 1, 3], [0, 1, 4]]\n",
      "\n",
      "xb = ['x1', 'x2', 'x3'] = [20. 20. -5.]\n",
      "xn = ['x4', 'x5'] = [0, 0]\n",
      "feasible: False\n",
      "cost = -100.0\n",
      "----------------------------------------------------------------------------------------------------\n",
      "xb = ['x1', 'x2', 'x4'] = [10. 25. 20.]\n",
      "xn = ['x3', 'x5'] = [0, 0]\n",
      "feasible: True\n",
      "cost = -95.0\n",
      "----------------------------------------------------------------------------------------------------\n",
      "xb = ['x1', 'x2', 'x5'] = [30.  5. 40.]\n",
      "xn = ['x3', 'x4'] = [0, 0]\n",
      "feasible: True\n",
      "cost = -75.0\n",
      "----------------------------------------------------------------------------------------------------\n",
      "xb = ['x1', 'x3', 'x4'] = [ 60. -25. -80.]\n",
      "xn = ['x2', 'x5'] = [0, 0]\n",
      "feasible: False\n",
      "cost = -120.0\n",
      "----------------------------------------------------------------------------------------------------\n",
      "xb = ['x1', 'x3', 'x5'] = [33.33333333  1.66666667 53.33333333]\n",
      "xn = ['x2', 'x4'] = [0, 0]\n",
      "feasible: True\n",
      "cost = -66.67\n",
      "----------------------------------------------------------------------------------------------------\n",
      "xb = ['x1', 'x4', 'x5'] = [35. -5. 50.]\n",
      "xn = ['x2', 'x3'] = [0, 0]\n",
      "feasible: False\n",
      "cost = -70.0\n",
      "----------------------------------------------------------------------------------------------------\n",
      "xb = ['x2', 'x3', 'x4'] = [30.  5. 40.]\n",
      "xn = ['x1', 'x5'] = [0, 0]\n",
      "feasible: True\n",
      "cost = -90.0\n",
      "----------------------------------------------------------------------------------------------------\n",
      "xb = ['x2', 'x3', 'x5'] = [ 50. -15. -80.]\n",
      "xn = ['x1', 'x4'] = [0, 0]\n",
      "feasible: False\n",
      "cost = -150.0\n",
      "----------------------------------------------------------------------------------------------------\n",
      "xb = ['x2', 'x4', 'x5'] = [ 35.  30. -20.]\n",
      "xn = ['x1', 'x3'] = [0, 0]\n",
      "feasible: False\n",
      "cost = -105.0\n",
      "----------------------------------------------------------------------------------------------------\n",
      "xb = ['x3', 'x4', 'x5'] = [ 35. 100. 120.]\n",
      "xn = ['x1', 'x2'] = [0, 0]\n",
      "feasible: True\n",
      "cost = 0.0\n",
      "----------------------------------------------------------------------------------------------------\n"
     ]
    }
   ],
   "source": [
    "import itertools as it\n",
    "import numpy as np\n",
    "from scipy import linalg\n",
    "\n",
    "c = np.array([-2., -3., 0., 0., 0.])\n",
    "A = np.array([[1., 1., 1., 0., 0.],[3., 2., 0., 1., 0.],[2., 4., 0., 0., 1.]])\n",
    "b = np.array([35., 100., 120.]).T\n",
    "\n",
    "#obtain column combinations\n",
    "n = range(5)\n",
    "idx = [list(i) for i in it.combinations(n, 3)]\n",
    "print('column combo count:', len(idx))\n",
    "print('column combo sample:', idx[:3])\n",
    "print('')\n",
    "#iterate over each column combo and check solution\n",
    "for i in idx:\n",
    "    B = A[:, i]\n",
    "    BI = linalg.inv(B)\n",
    "    xb = BI.dot(b)\n",
    "    print('xb =', ['x{}'.format(ii+1) for ii in i], '=', xb)\n",
    "    print('xn =', ['x{}'.format(ii+1) for ii in n if ii not in i], '=', '[0, 0]')\n",
    "    print('feasible:', all(xb > 0))\n",
    "    #x = np.array([99 if ii in i else 0. for ii in i])\n",
    "    x = np.zeros(5)\n",
    "    for ii in range(3):\n",
    "        x[i[ii]] = xb[ii]\n",
    "    cost = c.dot(x)\n",
    "    print('cost =', round(cost,2))\n",
    "    print('-'*100)"
   ]
  },
  {
   "cell_type": "markdown",
   "metadata": {},
   "source": [
    "### (d)  Among all the basic solutions you found, which basic solutions are feasible, thus are basic feasible solutions? \n",
    "Feasible solutions are annototed in the output above with \"feasible: True\".  5 of the 10 solutions are marked feasible. This corresponds to the 5 corners of the feasible region shown in part (a).\n",
    "\n",
    "### Which basic solution are infeasible? \n",
    "5 of the 10 solutions are marked as not-feasible.  These 5 solutions represent the intersection of constraints outside of the feasible region shown in part (a).\n",
    "\n",
    "### Locate each basic solution on the graph you draw in part (a)\n",
    "Feasible and not-feasible solutions are shown in the graph in part (a). Feasible solutions are shown in green. Not-feasible solutions are shown in red.\n",
    "\n",
    "The optimal solution appears to be -95 $(x_1, x_2) = (10,25)$.\n",
    "\n",
    "For fun, we can also solve the original (non-standard) LP with cvxpy."
   ]
  },
  {
   "cell_type": "code",
   "execution_count": 5,
   "metadata": {},
   "outputs": [
    {
     "name": "stdout",
     "output_type": "stream",
     "text": [
      "The solution status is optimal\n",
      "The optimal value is  -95.0\n",
      "The optimal [x1, x2] is  [10.0, 25.0]\n"
     ]
    }
   ],
   "source": [
    "import cvxpy as cp\n",
    "import numpy as np\n",
    "\n",
    "#setup variables and coeffcients\n",
    "x = cp.Variable(2, 1)\n",
    "c = np.array([-2., -3.])\n",
    "A = np.array([[1.,1.],[3.,2.],[2.,4.]])\n",
    "b = np.array([35., 100., 120.])\n",
    "\n",
    "#setup objective and constraints\n",
    "objective = cp.Minimize(c*x)\n",
    "constraints = [A*x <= b, x >= 0.]\n",
    "\n",
    "# solve\n",
    "prob = cp.Problem(objective, constraints)\n",
    "result = prob.solve()\n",
    "\n",
    "# display optimal value of variables\n",
    "print('The solution status is', prob.status)\n",
    "print('The optimal value is ', round(result))\n",
    "print('The optimal [x1, x2] is ', [round(xx,2) for xx in x.value])"
   ]
  }
 ],
 "metadata": {
  "kernelspec": {
   "display_name": "Python 3",
   "language": "python",
   "name": "python3"
  },
  "language_info": {
   "codemirror_mode": {
    "name": "ipython",
    "version": 3
   },
   "file_extension": ".py",
   "mimetype": "text/x-python",
   "name": "python",
   "nbconvert_exporter": "python",
   "pygments_lexer": "ipython3",
   "version": "3.6.6"
  }
 },
 "nbformat": 4,
 "nbformat_minor": 2
}
