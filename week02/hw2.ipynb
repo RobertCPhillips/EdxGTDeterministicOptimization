{
 "cells": [
  {
   "cell_type": "markdown",
   "metadata": {},
   "source": [
    "# Week 2 Homework"
   ]
  },
  {
   "cell_type": "markdown",
   "metadata": {},
   "source": [
    "## Question 1\n",
    "\n",
    "(a) $\\sum_{n=1}^3 x_i = x_1 + x_2 + x_3$\n",
    "\n",
    "(b) $\\sum_{t=1}^3 2^t w_{2t} = 2w_2 + 4w_4 + 8w_6$\n",
    "\n",
    "(c) $\\sum_{i=1}^3 \\sum_{j=1}^i x_{ij} = x_{11} + x_{21} + x_{22} + x_{31} + x_{32} + x_{33}$\n",
    "\n",
    "(d) $\\sum_{i=1}^3 \\sum_{j=2}^4 (x_i + y_{ij}) = 3x_1 + y_{12} + y_{13} + y_{14} + 3x_2 + y_{22} + y_{23} + y_{24} + 3x_3 + y_{32} + y_{33} + y_{34}$\n",
    "\n",
    "(e) $\\sum_{k=1}^3 (2k + 1)x_{k+1} = 3x_2 + 5x_3 + 7x_4$\n",
    "\n",
    "(f) $\\sum_{n=3}^5 \\sum_{m={n+1}}^{n+3} x_n y_m = x_3 y_4 + x_3 y_5 + x_3 y_6 + x_4 y_5 + x_4 y_6 + x_4 y_7 + x_5 y_6 + x_5 y_7 + x_5 y_8$\n"
   ]
  },
  {
   "cell_type": "markdown",
   "metadata": {},
   "source": [
    "## Question 2\n",
    "\n",
    "(a) The dimension of each vector is **3**.\n",
    "\n",
    "(b) $\\mathbf{x} + 2\\mathbf{y} = \\left[ \\begin{array}{c} 2 \\\\ 1 \\\\ 4 \\end{array} \\right] + 2 \\left[ \\begin{array}{c} 3 \\\\ 1 \\\\ 2 \\end{array} \\right] = \\left[ \\begin{array}{c} 8 \\\\ 3 \\\\ 8 \\end{array} \\right]$\n",
    "\n",
    "(c) $\\left\\| \\mathbf{x} - \\mathbf{y} \\right\\| = \\left\\| \\left[ \\begin{array}{c} 2 \\\\ 1 \\\\ 4 \\end{array} \\right] - \\left[ \\begin{array}{c} 3 \\\\ 1 \\\\ 2 \\end{array} \\right] \\right\\| = \\left\\| \\left[ \\begin{array}{c} -1 \\\\ 0 \\\\ 2 \\end{array} \\right] \\right\\| = \\sqrt{(-1)^2 + 0^2 + 2^2} = \\sqrt{5}$\n",
    "\n",
    "(d) $\\mathbf{x^T}(\\mathbf{x} + \\mathbf{y}) = \\left[ \\begin{array}{c} 2 \\  1 \\  4 \\end{array} \\right] \\left( \\left[ \\begin{array}{c} 2 \\\\ 1 \\\\ 4 \\end{array} \\right] + \\left[ \\begin{array}{c} 3 \\\\ 1 \\\\ 2 \\end{array} \\right] \\right) = \\left[ \\begin{array}{c} 2 \\  1 \\  4 \\end{array} \\right] \\left[ \\begin{array}{c} 5 \\\\ 2 \\\\ 6 \\end{array} \\right] = 36$\n",
    "\n",
    "(e) $x_2y_1 = 1 \\times 3 = 3$"
   ]
  },
  {
   "cell_type": "markdown",
   "metadata": {},
   "source": [
    "## Question 3\n",
    "\n",
    "To determine if each set is convex, we'll use the provided definition: A set X $\\in \\mathbf{R}^n$ is convex if $\\forall x, y \\in$ X and $\\lambda \\in [0, 1]$ it holds $\\lambda x + (1 - \\lambda)y \\in$ X.\n",
    "\n",
    "(a) The set $\\{(x_1, x_2) \\ | \\ x_1^2 + x_2^2 \\ge 0\\}$ is **convex**. \n",
    "\n",
    "Applying the definition, we have a tuple of the form $(\\lambda x_1 + (1 - \\lambda) y_1, \\lambda x_2 + (1 - \\lambda) y_2)$. The square of each term is $\\ge 0$ therefore the sum is $\\ge 0$.  Thefore the result is a member of X.\n",
    "\n",
    "\n",
    "(b) The set $\\{x \\ | \\ 3 - x^2 = 0\\}$ is **convex**.\n",
    "\n",
    "This set has 2 members: $\\sqrt{3}$ and $-\\sqrt{3}$.  Applying the definition we have $\\lambda \\sqrt{3} + (1 - \\lambda)(-\\sqrt{3}).$  This result is a member of the set when $\\lambda = \\frac{1}{2}$. \n",
    "\n",
    "(c) The set $\\{(x_1, x_2) \\ | \\ \\frac{x_1}{x_2 + 2} \\le 3, \\  x_2 \\ge -1\\}$ is **convex**.\n",
    "\n",
    "This can be rewritten as the set $\\{(x_1, x_2) \\ | \\ x_1 - 3x_2 \\le 6, x_2 \\ge -1$. Applying the defnition when get the following:\n",
    "\n",
    "$\\lambda (x_1 - 3x_2) + (1 - \\lambda)(y_1 - 3y_2)$. This is $\\le 6$ given the defintion of the set."
   ]
  },
  {
   "cell_type": "markdown",
   "metadata": {},
   "source": [
    "## Question 4\n",
    "\n",
    "A program is convex if its objective function is convex and the contraints are convex.\n",
    "\n",
    "(a) The problem $min \\  x_1^2 + x_2^2 \\  s.t. \\  (x_1, x_2) \\  \\in \\  \\mathbf{R}^2$ **is a convex program**.\n",
    "\n",
    "The objective was shown to be convex in Q3.  There are no constraints to consider since all of $\\mathbf{R}^2$ is considered.\n",
    "\n",
    "(b) The problem $max \\  3x_1 + 2x_2 \\  s.t. \\  x_1^2 + x_2^2 \\le 10$ **is a convex program**.\n",
    "\n",
    "The objective is a line and therefore is convex.  The constraint is a filled circle and therefore is convex.\n",
    "\n",
    "(c) The problem $min \\sum_{i=1}^n 2^i(x_i)^{2i} \\  s.t. \\  \\sum_{i=1}^n x_i \\ge 10$ is **not a convex program**.\n",
    "\n",
    "The objective is a polynomial of order 2n and is not convex."
   ]
  },
  {
   "cell_type": "markdown",
   "metadata": {},
   "source": [
    "## Question 5\n",
    "A quantity y is known to depend upon another quantity x. A set of n data pairs $\\{y_i, x_i\\}$ where i = 1..n has been collected.\n",
    "\n",
    "(a) The optimization model is $min \\ \\sum_{i=1}^n |y_i - (ax_i + b)|$. This is a non-linear optimization program since the absolute function is not linear.  All variables (a,b) are continuous.  It is a convex program since each measurement is evaluated with a linear function that is convex.\n",
    "\n",
    "(b) The optimization model is $min \\ max(y_i - (ax_i + b))$.  This is a non-linear optimization program since the max function is not linear. All variables (a,b) are continuous. It is a convex program since each measurement is evaluated with a function that is convex.\n",
    "\n",
    "(c) The optimization model is $min \\ max(y_i - (ax_i^2 + bx_i + c))$.  This is a non-linear optimization program since the max function is not linear. All variables (a,b, c) are continuous. It is not a convex program since each measurement is evaluated with a function that is not convex."
   ]
  }
 ],
 "metadata": {
  "kernelspec": {
   "display_name": "Python 3",
   "language": "python",
   "name": "python3"
  },
  "language_info": {
   "codemirror_mode": {
    "name": "ipython",
    "version": 3
   },
   "file_extension": ".py",
   "mimetype": "text/x-python",
   "name": "python",
   "nbconvert_exporter": "python",
   "pygments_lexer": "ipython3",
   "version": "3.6.6"
  }
 },
 "nbformat": 4,
 "nbformat_minor": 2
}
