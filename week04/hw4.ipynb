{
 "cells": [
  {
   "cell_type": "markdown",
   "metadata": {},
   "source": [
    "# Week 4 Homework \n",
    "Minimize each of the following functions using an appropriate routine from **scipy.optimize**. Provide a printout of your code, along with the solution."
   ]
  },
  {
   "cell_type": "code",
   "execution_count": 1,
   "metadata": {},
   "outputs": [],
   "source": [
    "from scipy.optimize import minimize\n",
    "from scipy.optimize import minimize_scalar"
   ]
  },
  {
   "cell_type": "markdown",
   "metadata": {},
   "source": [
    "## Question 1\n",
    "$f(x_1, x_2, x_3) = |x_1^2 − 3x_3 + 4| + (x_2 − 3)^2$ starting from the point $(0, 0, 0)$.\n",
    "\n",
    "This is a multivarable scaler function therefore we will use the **minimize** function."
   ]
  },
  {
   "cell_type": "code",
   "execution_count": 2,
   "metadata": {},
   "outputs": [
    {
     "name": "stdout",
     "output_type": "stream",
     "text": [
      " final_simplex: (array([[-0.45756728,  3.00002551,  1.4031226 ],\n",
      "       [-0.45750694,  2.99995972,  1.4031042 ],\n",
      "       [-0.45749527,  3.00000023,  1.40310064],\n",
      "       [-0.45748499,  2.99997449,  1.40309751]]), array([1.66963175e-09, 5.40377641e-09, 6.69364544e-09, 6.85824038e-09]))\n",
      "           fun: 1.6696317548007262e-09\n",
      "       message: 'Optimization terminated successfully.'\n",
      "          nfev: 413\n",
      "           nit: 227\n",
      "        status: 0\n",
      "       success: True\n",
      "             x: array([-0.45756728,  3.00002551,  1.4031226 ])\n"
     ]
    }
   ],
   "source": [
    "def f(x):\n",
    "    return abs(x[0]**2 - 3.*x[2] + 4.) + (x[1] - 3.)**2\n",
    "\n",
    "min_val = minimize(f, x0=[0,0,0], method='Nelder-Mead')\n",
    "print(min_val)"
   ]
  },
  {
   "cell_type": "markdown",
   "metadata": {},
   "source": [
    "The output indicates an optimum at $x_1 = 0, x_2 = 3, x_3 = \\frac{4}{3}$. Here, the objective function has a value of **approximiately 0**."
   ]
  },
  {
   "cell_type": "markdown",
   "metadata": {},
   "source": [
    "## Question 2\n",
    "$f(x) = (x − 1)(x)(x + 3) + x^4$ over the interval $[−10, 10]$.\n",
    "\n",
    "This is a univariate scalar function therefore we'll use the **minimize_scalar** function."
   ]
  },
  {
   "cell_type": "code",
   "execution_count": 3,
   "metadata": {},
   "outputs": [
    {
     "name": "stdout",
     "output_type": "stream",
     "text": [
      "     fun: -0.8156731036447341\n",
      "    nfev: 45\n",
      "     nit: 40\n",
      " success: True\n",
      "       x: 0.47441768985981336\n"
     ]
    }
   ],
   "source": [
    "def f(x):\n",
    "    return (x - 1.)*x*(x + 3.) + x**4\n",
    "\n",
    "min_val = minimize_scalar(f, bounds=(-10.,10.), method=\"Golden\")\n",
    "print(min_val)"
   ]
  },
  {
   "cell_type": "markdown",
   "metadata": {},
   "source": [
    "The output indicates an optimum at x = **0.4744** with objective value **-.81567**."
   ]
  },
  {
   "cell_type": "markdown",
   "metadata": {},
   "source": [
    "## Question 3\n",
    "Let $A = \\begin{bmatrix} 2 & −3 \\\\ 4 & 1 \\end{bmatrix}$ and $b = \\begin{bmatrix} 1 \\\\ 9 \\end{bmatrix}$. Then $f(x) = ||Ax − b||$ where $x \\in \\mathbf{R}^2$. Start from $(0, 0)$.\n",
    "\n",
    "We can first treat this like a least-squares problem and use **nnls** to solve."
   ]
  },
  {
   "cell_type": "code",
   "execution_count": 4,
   "metadata": {},
   "outputs": [
    {
     "name": "stdout",
     "output_type": "stream",
     "text": [
      "(array([2., 1.]), 0.0)\n"
     ]
    }
   ],
   "source": [
    "from scipy.optimize import nnls\n",
    "A = [[2, -3], [4,1]]\n",
    "b = [1, 9]\n",
    "\n",
    "min_val = nnls(A, b)\n",
    "\n",
    "print(min_val)"
   ]
  },
  {
   "cell_type": "markdown",
   "metadata": {},
   "source": [
    "The output indicates an optimal solution at $[2, 1]$ with value $0$.\n",
    "\n",
    "Alternatively, we can treat this as a minimization of the length of a vector with 2 components $y_1$ and $y_2$ with each being compsed of 2 variables $x_1$ and $x_2$.  Expanding $f(x) = ||Ax-b||$ yields an objective function of $\\sqrt{y_1^2 + y_2^2}$ with $y_1 = 2x_1 -3x_2 - 1$ and $y_2 = 4x_1 + x_2 - 9$ "
   ]
  },
  {
   "cell_type": "code",
   "execution_count": 5,
   "metadata": {},
   "outputs": [
    {
     "name": "stdout",
     "output_type": "stream",
     "text": [
      " final_simplex: (array([[2.00000833, 1.00002649],\n",
      "       [1.99997718, 1.00000875],\n",
      "       [2.00000648, 0.99996275]]), array([8.67449863e-05, 1.09457457e-04, 1.25229896e-04]))\n",
      "           fun: 8.674498631302434e-05\n",
      "       message: 'Optimization terminated successfully.'\n",
      "          nfev: 129\n",
      "           nit: 68\n",
      "        status: 0\n",
      "       success: True\n",
      "             x: array([2.00000833, 1.00002649])\n"
     ]
    }
   ],
   "source": [
    "from math import sqrt \n",
    "def f(x):\n",
    "    return sqrt((2.*x[0] - 3.*x[1] - 1.)**2 + (4.*x[0] + x[1] - 9.)**2)\n",
    "\n",
    "min_val = minimize(f, x0=[0,0], method='Nelder-Mead')\n",
    "print(min_val)"
   ]
  },
  {
   "cell_type": "markdown",
   "metadata": {},
   "source": [
    "The output indicates an optimum at $x_1 = 2$ and $x_2 = 1$ with value $0$. This is the same value achieved using the least squares solver."
   ]
  }
 ],
 "metadata": {
  "kernelspec": {
   "display_name": "Python 3",
   "language": "python",
   "name": "python3"
  },
  "language_info": {
   "codemirror_mode": {
    "name": "ipython",
    "version": 3
   },
   "file_extension": ".py",
   "mimetype": "text/x-python",
   "name": "python",
   "nbconvert_exporter": "python",
   "pygments_lexer": "ipython3",
   "version": "3.6.6"
  }
 },
 "nbformat": 4,
 "nbformat_minor": 2
}
