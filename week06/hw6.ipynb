{
 "cells": [
  {
   "cell_type": "markdown",
   "metadata": {},
   "source": [
    "# Week 6 HW"
   ]
  },
  {
   "cell_type": "markdown",
   "metadata": {},
   "source": [
    "## Question 1\n",
    "Implement the stochastic inventory control model in CVXPY with the following data.\n",
    "\n",
    "(a) Demand $d$ can take 5 values: $d_1 = 10$, $d_2 = 20$, $d_3 = 30$, $d_4 = 40$, $d_5 = 50$, with probability $p_1 = 0.1$, $p_2 = 0.15$, $p_3 = 0.3$, $p_4 = 0.25$, $p_5 = 0.2$, respectively.\n",
    "\n",
    "(b) Unit cost $c = 10$, retail price $r = 15$, discount price $s = 5$.\n",
    "\n",
    "(c) Production capacity $\\bar{x} = 75$.\n",
    "\n",
    "#### Solution\n",
    "The information above indicates there are **5** scenarios.  Therefore we will have 11 total variables (*1 for the 1st stage and 10 for the second stage.)*"
   ]
  },
  {
   "cell_type": "code",
   "execution_count": 2,
   "metadata": {},
   "outputs": [
    {
     "name": "stdout",
     "output_type": "stream",
     "text": [
      "The problem status is optimal\n",
      "The objective value is -115.0\n",
      "The production quanity is 30.0\n",
      "The retail qty for each scenario is [10.0, 20.0, 30.0, 30.0, 30.0]\n",
      "The sale qty for each scenario is [20.0, 10.0, 0.0, 0.0, 0.0]\n"
     ]
    }
   ],
   "source": [
    "import cvxpy as cp\n",
    "import numpy as np\n",
    "\n",
    "# given values\n",
    "n = 5 # scenario count\n",
    "\n",
    "d = np.array([10., 20., 30., 40., 50.])\n",
    "p = np.array([0.1, .15, .30, .25, 0.2])\n",
    "c = 10.\n",
    "r = 15.\n",
    "s = 5.\n",
    "xbar = 75.\n",
    "\n",
    "#lp variables\n",
    "x = cp.Variable()\n",
    "y = cp.Variable(n,1)\n",
    "z = cp.Variable(n,1)\n",
    "\n",
    "#problem setup\n",
    "objective = cp.Minimize(c*x + p*(-r*y-s*z))\n",
    "constraints = [x >= 0., x <= xbar, y >= 0., y <= d, z >= 0., -x + y + z <= 0.]\n",
    "\n",
    "#solve\n",
    "prob = cp.Problem(objective, constraints)\n",
    "result = prob.solve()\n",
    "\n",
    "#output results\n",
    "print('The problem status is', prob.status)\n",
    "print('The objective value is', round(result, 2))\n",
    "print('The production quanity is', round(x.value,2))\n",
    "print('The retail qty for each scenario is', [round(yy[0,0],2) for yy in y.value])\n",
    "print('The sale qty for each scenario is', [round(zz[0,0], 2) for zz in z.value])"
   ]
  },
  {
   "cell_type": "markdown",
   "metadata": {},
   "source": [
    "## Question 2\n",
    "Given a set of training data...build the classifier using the absolute deviation regression (ADR).\n",
    "\n",
    "#### (a) Is the objective function of (ADR) a convex function in β0, . . . , βn?\n",
    "ADR is convex becuase it is a sum of convex functions.\n",
    "\n",
    "#### (b) Write a linear programming reformulation of (ADR).\n",
    "In the given data, the X array contains 2 features with 100 observations.  Therefore we need 3 variables $\\beta_0$, $\\beta_1$, and $\\beta_2$. We also need 100 variables to support the LP formulation.\n",
    "\n",
    "$\\begin{aligned}\n",
    "\\text{min}_{\\beta_0, \\beta_1, \\beta_2} \\sum_{i=0}^{100} z_i \\\\\n",
    "\\text{s.t.} & \\beta_0 + \\sum_{j=1}^2 x_{ij}\\beta_j - y_i \\le z_i \\forall i \\in \\{1,2,...,100\\} \\\\\n",
    "& \\beta_0 + \\sum_{j=1}^2 x_{ij}\\beta_j - y_i \\ge -z_i \\forall i \\in \\{1,2,...,100\\}\n",
    "\\end{aligned}$\n",
    "\n",
    "#### (c) Code your LP reformulation of (ADR) in CVXPY, using the data file provided.\n",
    "I ended up with 2 implementations.  The first is a direct implementation of the ADR. The other is the LP formulation.  Both yield the same result."
   ]
  },
  {
   "cell_type": "code",
   "execution_count": 5,
   "metadata": {},
   "outputs": [
    {
     "name": "stdout",
     "output_type": "stream",
     "text": [
      "The problem status is optimal\n",
      "The objective value is 26.52\n",
      "The hyperplane parameters are [0.4036, 0.185, -0.1995]\n"
     ]
    }
   ],
   "source": [
    "# direct implementation of ADR\n",
    "\n",
    "import numpy as np\n",
    "\n",
    "# load the file data (I created these files from the given file)\n",
    "xs = np.loadtxt('x.dat')\n",
    "#print(xs.shape)\n",
    "\n",
    "ys = np.loadtxt('y.dat')\n",
    "#print(ys.shape)\n",
    "\n",
    "#lp variables\n",
    "x = cp.Variable(3,1)\n",
    "ones = np.ones([xs.shape[0], 1])\n",
    "A = np.hstack([ones, xs])\n",
    "#print(A)\n",
    "\n",
    "#problem setup\n",
    "objective = cp.Minimize(cp.sum_entries(cp.abs(ys - A*x)))\n",
    "constraints = None\n",
    "\n",
    "#solve\n",
    "prob = cp.Problem(objective, constraints)\n",
    "result = prob.solve()\n",
    "\n",
    "#output results\n",
    "print('The problem status is', prob.status)\n",
    "print('The objective value is', round(result, 2))\n",
    "\n",
    "params = [xx[0,0] for xx in x.value]\n",
    "print('The hyperplane parameters are', [round(xx,4) for xx in params])"
   ]
  },
  {
   "cell_type": "code",
   "execution_count": 6,
   "metadata": {},
   "outputs": [
    {
     "name": "stdout",
     "output_type": "stream",
     "text": [
      "The problem status is optimal\n",
      "The objective value is 26.52\n",
      "The hyperplane parameters are [0.4036, 0.185, -0.1995]\n"
     ]
    }
   ],
   "source": [
    "# lp formulation\n",
    "\n",
    "m = xs.shape[1] + 1\n",
    "n = xs.shape[0]\n",
    "b = cp.Variable(m, 1)\n",
    "z = cp.Variable(n, 1)\n",
    "\n",
    "ones = np.ones([n, 1])\n",
    "A = np.hstack([ones, xs])\n",
    "\n",
    "#problem setup\n",
    "objective = cp.Minimize(cp.sum_entries(z))\n",
    "constraints = [A*b - ys <= z, A*b - ys >= -z]\n",
    "\n",
    "#solve\n",
    "prob = cp.Problem(objective, constraints)\n",
    "result = prob.solve()\n",
    "\n",
    "#output results\n",
    "print('The problem status is', prob.status)\n",
    "print('The objective value is', round(result, 2))\n",
    "params = [bb[0,0] for bb in b.value]\n",
    "print('The hyperplane parameters are', [round(bb,4) for bb in params])"
   ]
  },
  {
   "cell_type": "markdown",
   "metadata": {},
   "source": [
    "#### (d) Write a Python code to plot the data points and the hyperplane obtained from (ADR)."
   ]
  },
  {
   "cell_type": "code",
   "execution_count": 12,
   "metadata": {},
   "outputs": [
    {
     "data": {
      "image/png": "[encoded data removed]",
      "text/plain": [
       "<Figure size 432x288 with 1 Axes>"
      ]
     },
     "metadata": {},
     "output_type": "display_data"
    }
   ],
   "source": [
    "import matplotlib.pyplot as plt\n",
    "\n",
    "plt.scatter(xs[:,0], xs[:,1], c=np.where(ys == 1, 'y', 'k'));\n",
    "plt.xlabel(\"x1\");\n",
    "plt.ylabel(\"x2\");\n",
    "\n",
    "xx = np.linspace(-2, 4.5)\n",
    "# plot b0 + b1*x1 + b2*x2 >= .5 which is x2 >= -b1/b2*x1 + (.5 - b0) / b2\n",
    "a = -params[1] / params[2]\n",
    "yy = a * xx + (.5 - params[0]) / params[2]\n",
    "plt.plot(xx, yy, 'k-');\n",
    "plt.show();"
   ]
  }
 ],
 "metadata": {
  "kernelspec": {
   "display_name": "Python 3",
   "language": "python",
   "name": "python3"
  },
  "language_info": {
   "codemirror_mode": {
    "name": "ipython",
    "version": 3
   },
   "file_extension": ".py",
   "mimetype": "text/x-python",
   "name": "python",
   "nbconvert_exporter": "python",
   "pygments_lexer": "ipython3",
   "version": "3.6.6"
  }
 },
 "nbformat": 4,
 "nbformat_minor": 2
}
