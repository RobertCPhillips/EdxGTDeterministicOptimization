{
 "cells": [
  {
   "cell_type": "markdown",
   "metadata": {},
   "source": [
    "# Homework 5"
   ]
  },
  {
   "cell_type": "markdown",
   "metadata": {},
   "source": [
    "## Question 1\n",
    "Consider the following linear program. Then Answer the following questions.\n",
    "\n",
    "$\\begin{aligned}\n",
    "\\text{min} & \\ 3x_1 + x_2 \\\\\n",
    "\\text{s.t.} & \\ x_1 + 2x_2 & \\ge 2 \\\\\n",
    " & \\ 2x_1 + x_2 & \\ge 3 \\\\\n",
    " & \\ x_1 & \\ge 0 \\\\ \n",
    " & \\ x_2 & \\ge 0\n",
    "\\end{aligned}$\n"
   ]
  },
  {
   "cell_type": "markdown",
   "metadata": {},
   "source": [
    "#### (a) Draw the feasible region of this LP in $(x_1, x_2)$."
   ]
  },
  {
   "cell_type": "code",
   "execution_count": 3,
   "metadata": {},
   "outputs": [
    {
     "data": {
      "image/png": "[encoded data removed]",
      "text/plain": [
       "<Figure size 432x288 with 1 Axes>"
      ]
     },
     "metadata": {
      "needs_background": "light"
     },
     "output_type": "display_data"
    }
   ],
   "source": [
    "#plot the solution using matplotlib\n",
    "import matplotlib.pyplot as plt\n",
    "import numpy as np\n",
    "\n",
    "# x-values for our plot\n",
    "xmax = 5\n",
    "ymax = 4\n",
    "x = np.arange(0, xmax, 0.1)\n",
    "\n",
    "# the constraints to plot\n",
    "y1 = 1 - x / 2.\n",
    "y2 = 3 - 2.*x\n",
    "\n",
    "# plot the constraints\n",
    "plt.xlim(0, xmax)\n",
    "plt.ylim(0, ymax)\n",
    "plt.plot(x, y1, x, y2, label='Feasible Region')\n",
    "plt.legend([r'$x_1 + 2x_2 >= 2$', r'$2x_1 + x_2 >= 3$']);\n",
    "\n",
    "# fill in the feasable region (using a polygon)\n",
    "xp = [0, 0, xmax, xmax, 2, 4./3.]\n",
    "yp = [3, ymax, ymax, 0, 0, 1./3.]\n",
    "plt.fill(xp ,yp, hatch='\\\\');"
   ]
  },
  {
   "cell_type": "markdown",
   "metadata": {},
   "source": [
    "#### (b) Find the optimal solution using the picture of the feasible region. Hint: The optimal solution should be one of the corner points of the feasible region.\n",
    "\n",
    "The optimal solution may be at $(x_1, x_2)$ of $(0, 3)$, $(\\frac{4}{3}, \\frac{1}{3})$, or $(2, 0)$.  This yields objective values of $3$, $\\frac{13}{3}$, and $6$ repsectively.  Therefore the optimal objective is at $(0,3)$ with value $3$.\n",
    "\n",
    "#### (c) Write a CVXPY code to find the optimal solution."
   ]
  },
  {
   "cell_type": "code",
   "execution_count": 4,
   "metadata": {},
   "outputs": [
    {
     "name": "stdout",
     "output_type": "stream",
     "text": [
      "The optimal value is  3.0\n",
      "The optimal x1, x2 is  [-0.0, 3.0]\n"
     ]
    }
   ],
   "source": [
    "import cvxpy as cp\n",
    "import numpy as np\n",
    "\n",
    "#setup variables and coeffcients\n",
    "x = cp.Variable(2, 1)\n",
    "c = np.array([3., 1.])\n",
    "A = np.array([[1.,2.],[2.,1.],[1.,0.],[0.,1.]])\n",
    "b = np.array([2., 3., 0., 0.])\n",
    "\n",
    "#setup objective and constraints\n",
    "objective = cp.Minimize(c*x)\n",
    "constraints = [A*x >= b]\n",
    "\n",
    "# solve\n",
    "prob = cp.Problem(objective, constraints)\n",
    "result = prob.solve()\n",
    "\n",
    "# display optimal value of variables\n",
    "print('The optimal value is ', round(result))\n",
    "print('The optimal x1, x2 is ', [round(xn) for xn in x.value])"
   ]
  },
  {
   "cell_type": "markdown",
   "metadata": {},
   "source": [
    "## Question 2\n",
    "Consider a transportation problem with 4 suppliers and 3 customers. The supply for each supplier $s_i$ are given as $s_1 = 10, s_2 = 25, s_3 =18, s_4 = 15$. The demand for each consumer $d_i$ are given as $d_1 = 15, d_2 = 20, d_3 = 16$. The unit transportation cost $c_{ij}$ between supplier $i$ and consumer $j$ are given as: $c_{11} = 2, c_{12} = 3, c_{21} = 4, c_{23} = 5, c_{31} = 2, c_{32} = 3, c_{33} = 4, c_{41} = 5, c_{43} = 3$.\n",
    "\n",
    "#### (a) Formulate a linear program to find the minimum total transportation cost to satisfy all the demand (the demand can be exceeded). Write down the LP with the given data.\n",
    "\n",
    "Let $E$ be the set of edges between the supplier and consumer.  Thus $E = \\{(1,1), (1,2), (2,1), (2,3), (3,1), (3,2), (3,3), (4,1), (4,3)\\}$\n",
    "\n",
    "Let $x_{ij}$ be the demand for consumer $j$ satisfied by supplier $i$. This yields the following formulation.\n",
    "\n",
    "$\\begin{aligned}\n",
    "\\text{min} & \\ \\sum_{E} x_{ij}c_{ij} \\ & \\forall (i,j) \\in E \\\\\n",
    "\\text{s.t.} & \\ \\sum_{j=1}^{3} x_{ij} \\le s_i & \\forall i \\in \\{1,2,3,4\\} \\\\\n",
    " & \\ \\sum_{i=1}^{4} x_{ij} \\ge d_j & \\forall j \\in \\{1,2,3\\} \\\\\n",
    " & \\ x_{ij} \\ge 0 & \\forall (i,j) \\in E \n",
    "\\end{aligned}$\n",
    "\n",
    "#### (b) Write a CVXPY code to find the optimal solution of the above LP."
   ]
  },
  {
   "cell_type": "code",
   "execution_count": 5,
   "metadata": {},
   "outputs": [
    {
     "name": "stdout",
     "output_type": "stream",
     "text": [
      "The optimal value is  154.0\n",
      "The optimal x is  [3.0, 7.0, 7.0, 1.0, 5.0, 13.0, 0.0, -0.0, 15.0]\n"
     ]
    }
   ],
   "source": [
    "# 9 variables for the connected nodes\n",
    "i = 4\n",
    "j = 3\n",
    "n = 9\n",
    "\n",
    "x = cp.Variable(n, 1)\n",
    "\n",
    "# cost variables as given\n",
    "c = np.array([2., 3., 4., 5., 2., 3., 4., 5., 3.])\n",
    "bs = np.array([10., 25., 18., 15.])\n",
    "bd = np.array([15., 20., 16.])\n",
    "\n",
    "S = np.zeros((i,n))\n",
    "S[0,0] = 1.;S[0,1] = 1;\n",
    "S[1,2] = 1.;S[1,3] = 1;\n",
    "S[2,4] = 1.;S[2,5] = 1;S[2,6] = 1.;\n",
    "S[3,7] = 1.;S[3,8] = 1;\n",
    "\n",
    "D = np.zeros((j,n))\n",
    "D[0,0] = 1.;D[0,2] = 1.;D[0,4] = 1.;D[0,7] = 1.;\n",
    "D[1,1] = 1.;D[1,5] = 1.;\n",
    "D[2,3] = 1.;D[2,6] = 1.;D[2,8] = 1.;\n",
    "\n",
    "#setup objective and constraints\n",
    "objective = cp.Minimize(c*x)\n",
    "constraints = [S*x <= bs, D*x >= bd, x >= 0]\n",
    "\n",
    "# solve\n",
    "prob = cp.Problem(objective, constraints)\n",
    "result = prob.solve()\n",
    "\n",
    "# display optimal value of variables\n",
    "print('The optimal value is ', round(result))\n",
    "print('The optimal x is ', [round(xij) for xij in x.value])"
   ]
  },
  {
   "cell_type": "markdown",
   "metadata": {},
   "source": [
    "#### (c) Modify your code so that every demand is satisfied exactly, i.e. cannot be exceeded."
   ]
  },
  {
   "cell_type": "code",
   "execution_count": 6,
   "metadata": {},
   "outputs": [
    {
     "name": "stdout",
     "output_type": "stream",
     "text": [
      "The optimal value is  154.0\n",
      "The optimal x is  [1.0, 9.0, 7.0, 1.0, 7.0, 11.0, 0.0, 0.0, 15.0]\n"
     ]
    }
   ],
   "source": [
    "# modify constraint to ==\n",
    "constraints = [S*x <= bs, D*x == bd, x >= 0]\n",
    "\n",
    "# solve\n",
    "prob = cp.Problem(objective, constraints)\n",
    "result = prob.solve()\n",
    "\n",
    "# display optimal value of variables\n",
    "print('The optimal value is ', round(result))\n",
    "print('The optimal x is ', [round(xij) for xij in x.value])\n"
   ]
  },
  {
   "cell_type": "markdown",
   "metadata": {},
   "source": [
    "The previous result where the demand constraint was changed to an equality yields a different solution but with the same objective value."
   ]
  },
  {
   "cell_type": "markdown",
   "metadata": {},
   "source": [
    "## Question 3\n",
    "Consider the following electric power network taken from a real-world electric power system. Electricity generators are located at nodes 1, 3, and 5. Electricity loads are located at nodes 2, 4, and 6.\n",
    "\n",
    "Denote the amount of generation of generator $i$ as $p_i$ and the demand of consumer $j$ as $d_j$. \n",
    "\n",
    "The demand is given as $d_1 = 90$, $d_2 = 100$, $d_3 = 125$. The range of generation lower and upper bounds are given as $p_1^{min} = 10$, $p_1^{max} = 250$, $p_2^{min} = 10$, $p_2^{max} = 300$, $p_3^{min} = 10$, $p_3^{max} = 270$.\n",
    "\n",
    "The flow limit on lines are given as $f_{12}^{max} = 50$, $f_{23}^{max} = 60$, $f_{34}^{max} = 90$, $f_{45}^{max} = 50$, $f_{56}^{max} = 120$, $f_{61}^{max} = 100$.\n",
    "\n",
    "The line parameters are given as $B_{12} = 11.6$, $B_{23} = 5.9$, $B_{34} = 13.7$, $B_{45} = 9.8$, $B_{56} = 5.6$, $B_{61} = 10.5$.\n",
    "\n",
    "The unit generation costs are given as $c_1 = 5$, $c_2 = 2$, $c_3 = 3$.\n",
    "\n",
    "\n",
    "#### (a) Formulate the power system scheduling problem using the model discussed in Lecture 2.\n",
    "\n",
    "$\\text{let} \\ \\mathbf{E} = \\{(1,2),(2,3),(3,4),(4,5),(5,6),(6,1)\\} \\\\\n",
    "\\begin{aligned}\n",
    "\\text{min} & \\ \\sum_{i=1}^{3} p_ic_i \\\\\n",
    "\\text{s.t.} & \\ p_i^{min} \\le p_i \\le p_i^{max} \\ & \\forall i \\in \\{1,2,3\\} \\\\\n",
    " & \\ -f_{ij}^{max} \\le f_{ij} \\le f_{ij}^{max} \\ & \\forall (i,j) \\in \\mathbf{E} \\\\\n",
    " & f_{ij} = B_{ij}(\\theta_i - \\theta_j) \\ & \\forall (i,j) \\in \\mathbf{E} \\\\\n",
    " & f_{12} - f_{61} = p_1 \\\\\n",
    " & -f_{23} + f_{34} = p_2 \\\\\n",
    " & -f_{45} + f_{56} = p_3 \\\\\n",
    " & f_{12} - f_{23} = d_1 \\\\\n",
    " & f_{34} - f_{45} = d_2 \\\\\n",
    " & -f_{61} + f_{56} = d_3 \\\\\n",
    "\\end{aligned}$"
   ]
  },
  {
   "cell_type": "markdown",
   "metadata": {},
   "source": [
    "#### (b) Implement and solve the model using CVXPY. Write down the optimal solution."
   ]
  },
  {
   "cell_type": "code",
   "execution_count": 71,
   "metadata": {},
   "outputs": [
    {
     "name": "stdout",
     "output_type": "stream",
     "text": [
      "The solver status is optimal\n",
      "The optimal value is 992.04\n",
      "The optimal x (theta_1, ..., theta_6) is  [-2.28, -4.87, 5.3, 1.65, 6.75, -6.9]\n",
      "The power generation values (p_1, p_2, p_3) are [78.52, 110.0, 126.48]\n"
     ]
    }
   ],
   "source": [
    "# 6 variables for 6 node potentials (thetas)\n",
    "n = 6\n",
    "\n",
    "x = cp.Variable(n, 1) #theta for each node\n",
    "\n",
    "# variables as given\n",
    "c = np.array([5., 2., 3.])\n",
    "B = np.array([11.6, 5.9, 13.7, 9.8, 5.6, 10.5])\n",
    "pmin = np.array([10., 10., 10.])\n",
    "pmax = np.array([250., 300., 270.])\n",
    "fmax = np.array([50., 60., 90., 50., 120., 100.])\n",
    "d = np.array([90., 100., 125.])\n",
    "\n",
    "#generator node flow conservation (as a function of theta and B)\n",
    "P = np.array([[B[0]+B[5], -B[0], 0., 0., 0., -B[5]],\n",
    "              [0., -B[1], B[1]+B[2], -B[2], 0., 0.],\n",
    "              [0., 0., 0., -B[3], B[3]+B[4], -B[4]]])\n",
    "\n",
    "#demand node flow conservation (as a function of theta and B)\n",
    "D = np.array([[B[0], -B[0]-B[1], B[1], 0., 0., 0.],\n",
    "              [0., 0., B[2], -B[2]-B[3], B[3], 0.],\n",
    "              [B[5], 0., 0., 0., B[4], -B[4]-B[5]]])\n",
    "\n",
    "#flow limits (as a function of theta and B - f_ij = B_ij(theta_i-theta_j))\n",
    "F = np.array([[B[0], -B[0], 0, 0, 0, 0],\n",
    "              [0, B[1], -B[1], 0, 0, 0],\n",
    "              [0, 0, B[2], -B[2], 0, 0],\n",
    "              [0, 0, 0, B[3], -B[3], 0],\n",
    "              [0, 0, 0, 0, B[4], -B[4]],\n",
    "              [-B[5], 0, 0, 0, 0, B[5]]])\n",
    "\n",
    "#setup objective and constraints\n",
    "objective = cp.Minimize(P*x*c)\n",
    "constraints = [P*x <= pmax, P*x >= pmin, D*x == d, F*x >= -fmax, F*x <= fmax]\n",
    "\n",
    "# solve\n",
    "prob = cp.Problem(objective, constraints)\n",
    "result = prob.solve()\n",
    "\n",
    "# display optimal value of variables\n",
    "print('The solver status is', prob.status)\n",
    "print('The optimal value is', round(result, 2))\n",
    "print('The optimal x (theta_1, ..., theta_6) is', [round(xi,2) for xi in x.value])\n",
    "#print(P)\n",
    "#print(D)\n",
    "#print(F)\n",
    "#print(prob)\n",
    "#print(x.value)\n",
    "print('The power generation values (p_1, p_2, p_3) are', [round(p,2) for p in np.dot(P,x.value)])\n"
   ]
  },
  {
   "cell_type": "markdown",
   "metadata": {},
   "source": [
    "#### (c) Find the electricity prices for demand at nodes $2$, $4$, $6$. To do this, use the command constraints[0].dual value to find the dual variable of constraints[0]. Hint: Recall the electricity price at node i is the dual variable for the flow conservation constraint at node $i$.\n",
    "\n",
    "The demand nodes are represented by the constraint D*x == d, which is the 3rd item in the list of constraint variables."
   ]
  },
  {
   "cell_type": "code",
   "execution_count": 66,
   "metadata": {},
   "outputs": [
    {
     "name": "stdout",
     "output_type": "stream",
     "text": [
      "[-5.62968516 -2.53316407 -4.30434783]\n"
     ]
    }
   ],
   "source": [
    "print(constraints[2].dual_value)"
   ]
  }
 ],
 "metadata": {
  "kernelspec": {
   "display_name": "Python 3",
   "language": "python",
   "name": "python3"
  },
  "language_info": {
   "codemirror_mode": {
    "name": "ipython",
    "version": 3
   },
   "file_extension": ".py",
   "mimetype": "text/x-python",
   "name": "python",
   "nbconvert_exporter": "python",
   "pygments_lexer": "ipython3",
   "version": "3.6.6"
  }
 },
 "nbformat": 4,
 "nbformat_minor": 2
}
