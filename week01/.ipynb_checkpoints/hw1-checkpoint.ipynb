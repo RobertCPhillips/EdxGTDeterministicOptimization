{
 "cells": [
  {
   "cell_type": "markdown",
   "metadata": {},
   "source": [
    "# GTX Deterministic Optimization - Week 1 Homework"
   ]
  },
  {
   "cell_type": "markdown",
   "metadata": {},
   "source": [
    "### Question 1\n",
    "Consider the following optimization problem:\n",
    "\n",
    "$$min \\{ x^2 + y^2 : x + 3y \\geq 6, x + y \\geq 4, x \\geq 0, y \\geq 0 \\}$$\n",
    "\n",
    "Plot the feasible region of this problem with the feasible area shaded. Draw (in dashed lines) the contours of the objective function. Based on your drawing, guess an optimal solution and the optimal objective value of this problem.\n",
    "\n",
    "#### Answer\n",
    "We can see from the constraints that the solution is bound in the quadrant where both x and y are positive.  The solution is further bound below by 2 lines that intersect at $(x,y) = (3,1)$. The resulting feasible reagion is shaded in green in the chart below.\n",
    "\n",
    "Regarding a feasible solution, it will exist where the objective function (which is a circle) intersects the feasible region constructed from the constraints. This will occur where constraints intersect (i.e. at one of the corners of the feasible region).  In this case, it appears to be at $(3,1)$ which yields an objective function value of 10."
   ]
  },
  {
   "cell_type": "code",
   "execution_count": 18,
   "metadata": {},
   "outputs": [
    {
     "data": {
      "image/png": "[encoded data removed]",
      "text/plain": [
       "<Figure size 432x288 with 1 Axes>"
      ]
     },
     "metadata": {},
     "output_type": "display_data"
    }
   ],
   "source": [
    "#plot the solution using matplotlib\n",
    "import matplotlib.pyplot as plt\n",
    "import numpy as np\n",
    "\n",
    "# x-values for our plot\n",
    "x = np.arange(0, 8, 0.1)\n",
    "\n",
    "# the constraints to plot\n",
    "y1 = 2 - x / 3.\n",
    "y2 = 4 - x\n",
    "\n",
    "# plot the constraints\n",
    "plt.xlim(0, 8)\n",
    "plt.ylim(0, 8)\n",
    "plt.plot(x, y1, x, y2)\n",
    "\n",
    "# fill in the feasable region (using a polygon)\n",
    "xp = [3, 6, 8, 8, 0, 0]\n",
    "yp = [1, 0, 0, 8, 8, 4]\n",
    "plt.fill(xp ,yp, 'g')\n",
    "\n",
    "# plot objective function values\n",
    "for i in range(1,6):\n",
    "    circle = plt.Circle((0, 0), i, fill=False, ls='dashed')\n",
    "    plt.gca().add_patch(circle)"
   ]
  },
  {
   "cell_type": "markdown",
   "metadata": {},
   "source": [
    "### Question 2\n",
    "Recall the maximum volume box from Module 1, Lesson 1. Solve the following problem using basic calculus:\n",
    "\n",
    "$$max \\{ x(1 − 2x)^2 : 0 \\leq x \\leq \\frac{1}{2} \\}$$\n",
    "\n",
    "What is the optimal solution and the optimal objective value?\n",
    "\n",
    "#### Answer\n",
    "By plugging in values, we can see that the objective function is 0 at the endpoints of the constraint (at 0 and at $\\frac{1}{2}$). Using calculus we take the derivative of the objective function and determine where that equals 0.  The derivative yields the polynomial $12 x^2 - 8x + 1$.  The roots of this polynomial are $x = \\frac{1}{6}$ and $x = \\frac{1}{2}$.\n",
    "\n",
    "As already stated, the objective function has value 0 at $x = \\frac{1}{2}$.  At $x = \\frac{1}{6}$ the objective function has value $\\frac{2}{27}$.\n",
    "\n",
    "The second derivative of the objective function is $24x - 8$.  The second derivative is positive $x = \\frac{1}{2}$ indicating a minimum.  The second derivative is negative at $x = \\frac{1}{6}$ indicating a maximum.\n",
    "\n",
    "Therefore we conclude that the objective as a maximum value of $\\frac{2}{27}$ at $x = \\frac{1}{6}$."
   ]
  },
  {
   "cell_type": "markdown",
   "metadata": {},
   "source": [
    "### Question 3\n",
    "Recall the portfolio optimization problem solved in Module 2, Lesson 3. Collect the prices of MSFT, V, and WMT from the last 24 months. Use the code used in the lesson (this will be provided) to solve the exact same portfolio problem using the new data. Compare and contrast your solution to the one in the lesson."
   ]
  },
  {
   "cell_type": "code",
   "execution_count": 34,
   "metadata": {},
   "outputs": [
    {
     "name": "stderr",
     "output_type": "stream",
     "text": [
      "/home/robert/anaconda3/lib/python3.6/site-packages/ipykernel_launcher.py:23: FutureWarning: set_value is deprecated and will be removed in a future release. Please use .at[] or .iat[] accessors instead\n",
      "/home/robert/anaconda3/lib/python3.6/site-packages/ipykernel_launcher.py:30: FutureWarning: Method .as_matrix will be removed in a future version. Use .values instead.\n"
     ]
    },
    {
     "name": "stdout",
     "output_type": "stream",
     "text": [
      "----------------------\n",
      "MSFT: Exp ret = 0.02461117173526473, Risk = 0.05804007272464832\n",
      "V: Exp ret = 0.018237255482436765, Risk = 0.04280681304387474\n",
      "WMT: Exp ret = 0.009066433484915428, Risk = 0.04446075444703942\n",
      "----------------------\n",
      "Optimal portfolio\n",
      "----------------------\n",
      "x[MSFT] = 0.5828274876507884\n",
      "x[V] = 0.20430730337676578\n",
      "x[WMT] = 0.21286520897225722\n",
      "----------------------\n",
      "Exp ret = 0.020000000137615822\n",
      "risk    = 0.03825552318041397\n",
      "----------------------\n"
     ]
    }
   ],
   "source": [
    "\"\"\"\n",
    "Portfolio optimization with CVXPY\n",
    "See examples at http://cvxpy.org\n",
    "Author: Shabbir Ahmed\n",
    "\"\"\"\n",
    "\n",
    "import pandas as pd\n",
    "import numpy as np\n",
    "from cvxpy import *\n",
    "\n",
    "# read monthly_prices.csv\n",
    "mp = pd.read_csv(\"monthly_prices.csv\",index_col=0)\n",
    "mr = pd.DataFrame()\n",
    "\n",
    "# compute monthly returns\n",
    "for s in mp.columns:\n",
    "    date = mp.index[0]\n",
    "    pr0 = mp[s][date] \n",
    "    for t in range(1,len(mp.index)):\n",
    "        date = mp.index[t]\n",
    "        pr1 = mp[s][date]\n",
    "        ret = (pr1-pr0)/pr0\n",
    "        mr.set_value(date,s,ret)\n",
    "        pr0 = pr1\n",
    "        \n",
    "# get symbol names\n",
    "symbols = mr.columns\n",
    "\n",
    "# convert monthly return data frame to a numpy matrix\n",
    "return_data = mr.as_matrix().T\n",
    "\n",
    "# compute mean return\n",
    "r = np.asarray(np.mean(return_data, axis=1))\n",
    "\n",
    "# covariance\n",
    "C = np.asmatrix(np.cov(return_data))\n",
    "\n",
    "# print out expected return and std deviation\n",
    "print(\"----------------------\")\n",
    "for j in range(len(symbols)):\n",
    "    print('{}: Exp ret = {}, Risk = {}'.format(symbols[j], r[j], C[j,j]**0.5))\n",
    "\n",
    "# set up optimization model\n",
    "n = len(symbols)\n",
    "x = Variable(n)\n",
    "req_return = 0.02\n",
    "ret = r.T*x\n",
    "risk = quad_form(x, C)\n",
    "prob = Problem(Minimize(risk), \n",
    "               [sum(x) == 1, ret >= req_return,\n",
    "                x >= 0])\n",
    "\n",
    "# solve problem and write solution\n",
    "prob.solve()\n",
    "print(\"----------------------\")\n",
    "print(\"Optimal portfolio\")\n",
    "print(\"----------------------\")\n",
    "for s in range(len(symbols)):\n",
    "    print('x[{}] = {}'.format(symbols[s], x.value[s])) #, x.value[s,0]\n",
    "print(\"----------------------\")\n",
    "print('Exp ret = {}'.format(ret.value))\n",
    "print('risk    = {}'.format((risk.value)**0.5))\n",
    "print(\"----------------------\")\n"
   ]
  }
 ],
 "metadata": {
  "kernelspec": {
   "display_name": "Python 3",
   "language": "python",
   "name": "python3"
  },
  "language_info": {
   "codemirror_mode": {
    "name": "ipython",
    "version": 3
   },
   "file_extension": ".py",
   "mimetype": "text/x-python",
   "name": "python",
   "nbconvert_exporter": "python",
   "pygments_lexer": "ipython3",
   "version": "3.6.6"
  }
 },
 "nbformat": 4,
 "nbformat_minor": 2
}
