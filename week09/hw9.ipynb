{
 "cells": [
  {
   "cell_type": "markdown",
   "metadata": {},
   "source": [
    "# HW 9"
   ]
  },
  {
   "cell_type": "markdown",
   "metadata": {},
   "source": [
    "## Question 1\n",
    "Given the following LP:\n",
    "\n",
    "$\n",
    "\\begin{align} \\\\\n",
    "\\text{max } &  2x_1 + x_2 + 4x_3 + 15x_4 \\\\\n",
    "\\text{s.t. } & 4x_1 + x_2 + 2x_3 + 3x_4 \\le 700 \\\\\n",
    "& 4x_1 + 2x_2 + x_3 + 5x_4 \\le 700 \\\\\n",
    "& x_1, x_2, x_3, x_4 \\ge 0 \\\\\n",
    "\\end{align}\n",
    "$\n",
    "\n",
    "#### 1. Form the dual minimization problem.\n",
    "The given LP is a maximization therefore the dual will be a minimization problem.  This leads to a dual that is minimizing an upper bound for the given LP.  Furthermore, by Strong Duality, the solution to the dual LP is also as solution to the primal (given) LP.\n",
    "\n",
    "The dual of the given LP is:\n",
    "\n",
    "$\n",
    "\\begin{align} \\\\\n",
    "\\text{min } &  700y_1 + 700y_2 \\\\\n",
    "\\text{s.t. } & 4y_1 + 4y_2 \\ge 2 \\\\\n",
    "& y_1 + 2y_2 \\ge 1 \\\\\n",
    "& 2y_1 + y_2 \\ge 4 \\\\\n",
    "& 3y_1 + 5y_2 \\ge 15 \\\\\n",
    "& y_1, y_2 \\ge 0 \\\\\n",
    "\\end{align}\n",
    "$\n",
    "\n",
    "#### 2. Draw the feasible region of your dual problem."
   ]
  },
  {
   "cell_type": "code",
   "execution_count": 18,
   "metadata": {},
   "outputs": [
    {
     "data": {
      "image/png": "[encoded data removed]",
      "text/plain": [
       "<Figure size 432x288 with 1 Axes>"
      ]
     },
     "metadata": {},
     "output_type": "display_data"
    }
   ],
   "source": [
    "#plot the solution using matplotlib\n",
    "import matplotlib.pyplot as plt\n",
    "import numpy as np\n",
    "\n",
    "# x-values for our plot\n",
    "xmax = 5.0\n",
    "ymax = 4.5\n",
    "x = np.arange(0, xmax, 0.1)\n",
    "\n",
    "# the constraints to plot\n",
    "y1 = 2.  / 4. - 4.*x / 4.\n",
    "y2 = 1.  / 2. - 1.*x / 2.\n",
    "y3 = 4.  / 1. - 2.*x / 1.\n",
    "y4 = 15. / 5. - 3.*x / 5.\n",
    "\n",
    "# plot the constraints\n",
    "plt.xlim(0, xmax)\n",
    "plt.ylim(0, ymax)\n",
    "plt.plot(x, y1, x, y2, x, y3, x, y4, label='Feasible Region')\n",
    "plt.legend([r'$4y_1 + 4y_2 >= 2$', r'$y_1 + 2y_2 >= 1$', r'$2y_1 + y_2 >= 4$', r'$3y_1 + 5y_2 >= 15$']);\n",
    "plt.xlabel(r'$y_1$');\n",
    "plt.ylabel(r'$y_2$');\n",
    "\n",
    "# fill in the feasable region (using a polygon)\n",
    "xp = [0., 0., 5., 5., 5./7.]\n",
    "yp = [4., 4.5, 4.5, 0., 18./7.]\n",
    "plt.fill(xp ,yp, hatch='\\\\');\n",
    "\n",
    "plt.plot([0., 5.], [4., 0.], 'or', markersize=12, color='red');\n",
    "plt.plot([5./7.], [18./7.], 'or', markersize=12, color='green');"
   ]
  },
  {
   "cell_type": "markdown",
   "metadata": {},
   "source": [
    "#### 3. Point out on the graph the optimal solution of the dual problem.\n",
    "The optimal solution could be at $(y_1,y_2) = (0,4)$ or at $(y_1,y_2) = (5,0)$ or at $(y_1, y_2) = (\\frac{5}{7},\\frac{18}{7})$. These feasible solutions yield the values $2800, 3500, 2300$ respectively.  Therefore the optimal value is at $(y_1, y_2) = (\\frac{5}{7},\\frac{18}{7})$."
   ]
  },
  {
   "cell_type": "markdown",
   "metadata": {},
   "source": [
    "#### 4. What is the optimal objective value of the dual problem?\n",
    "The optimal value of the dual problem is $2300$ which is $200$ more than Long John."
   ]
  },
  {
   "cell_type": "markdown",
   "metadata": {},
   "source": [
    "#### 5. Which primal constraints must be active at the primal optimal solution?\n",
    "Excluding non-negativity constraints, the primal LP has 2 constraints whereas the the dual LP has 4 constraints. In the dual LP, we can see that only 2 of the constraints are active in the solution. This corresponds to the variables $x_3$ and $x_4$ in the primal LP."
   ]
  },
  {
   "cell_type": "markdown",
   "metadata": {},
   "source": [
    "#### 6. Which primal variables of the optimal primal solution must be zero?\n",
    "As explained in part 5, 2 of the dual constraints are not active.  This corresponds to the primal variables $x_1$ and $x_2$.  Therefore they have a value of zero."
   ]
  },
  {
   "cell_type": "markdown",
   "metadata": {},
   "source": [
    "#### 7. Find out the primal optimal solution.\n",
    "Given that $x_1$ and $x_2$ are zero, the primal LP reduces to the following simple 2 linear equations:\n",
    "\n",
    "$2x_3 + 3x_4 = 700$\n",
    "\n",
    "$x_3 + 5x_4 = 700$\n",
    "\n",
    "The solution is $(x_1, x_2, x_3, x_4) = (0, 0, 200, 100)$.  This gives an optimal value of $2*0 + 1*0 + 4*200 + 15*100 = 2300$.  This agrees with the dual solution as expected.\n",
    "\n",
    "For fun, we can also solve with cvxpy."
   ]
  },
  {
   "cell_type": "code",
   "execution_count": 25,
   "metadata": {},
   "outputs": [
    {
     "name": "stdout",
     "output_type": "stream",
     "text": [
      "The solution status is optimal\n",
      "The optimal value is  2300\n",
      "The optimal [x1, x2, x3, x4] is  [0.0, 0.0, 200.0, 100.0]\n"
     ]
    }
   ],
   "source": [
    "import cvxpy as cp\n",
    "import numpy as np\n",
    "\n",
    "#setup variables and coeffcients\n",
    "x = cp.Variable(4, 1)\n",
    "c = np.array([2., 1., 4., 15.])\n",
    "A = np.array([[4.,1.,2.,3.],[4.,2.,1.,5.]])\n",
    "b = np.array([700., 700.])\n",
    "\n",
    "#setup objective and constraints\n",
    "objective = cp.Maximize(c*x)\n",
    "constraints = [A*x <= b, x >= 0.]\n",
    "\n",
    "# solve\n",
    "prob = cp.Problem(objective, constraints)\n",
    "result = prob.solve()\n",
    "\n",
    "# display optimal value of variables\n",
    "print('The solution status is', prob.status)\n",
    "print('The optimal value is', round(result))\n",
    "print('The optimal [x1, x2, x3, x4] is', [round(xx[0,0],2) for xx in x.value])"
   ]
  },
  {
   "cell_type": "markdown",
   "metadata": {},
   "source": [
    "## Question 2\n",
    "\n",
    "#### 1. Show that when the budget for uncertainty is very large, the budgeted uncertainty is reduced to the box uncertainty set.\n",
    "\n",
    "The constraint with a budget of $n$ has the following form.\n",
    "\n",
    "$\\sum_{i=0}^{n} \\frac{|d_i - \\bar{d_i}|}{\\hat{d_i}} \\le n$\n",
    "\n",
    "The LHS has n terms:\n",
    "\n",
    "$\\frac{|d_1 - \\bar{d_1}|}{\\hat{d_1}} + ... + \\frac{|d_n - \\bar{d_n}|}{\\hat{d_n}} \\le n$\n",
    "\n",
    "Each term above is positive, therefore the above will be true if each term is $\\le 1$. In other words, the following must be true for each term:\n",
    "\n",
    "$\\frac{|d_1 - \\bar{d_1}|}{\\hat{d_1}} \\le 1 \\Leftrightarrow |d_1 - \\bar{d_1}| \\le \\hat{d_1} \\text{which gives 2 constraints:  } d_1 - \\bar{d_1} \\le \\hat{d_1} \\text{ and } d_1 - \\bar{d_1} \\ge -\\hat{d_1}$\n",
    "\n",
    "Those 2 constraints can be rearranged as $\\bar{d_1} + \\hat{d_1} \\ge d_1 \\text{ and } \\bar{d_1} - \\hat{d_1} \\le d_1$\n",
    "\n",
    "This is equivalent to the box uncertainty constraint $d_i \\in [\\bar{d_i} - \\hat{d_i}, \\bar{d_i} + \\hat{d_i}]$\n",
    "\n",
    "#### 2. Reformulate the given budget as deterministic linear constraints.\n",
    "\n",
    "We are given $\\sum_{i=0}^n x_id_i \\le g \\forall d_i \\in D_{budget}$\n",
    "\n",
    "This is the same as $\\sum_{i=0}^n x_i\\frac{w_i}{\\hat{d_i}} \\le g \\forall d_i \\in D_{budget}$\n",
    "\n",
    "This is reformulated as:\n",
    "\n",
    "$\\sum_{i=0}^n x_i\\frac{|d_i - \\bar{d_i}|}{\\hat{d_i}} \\le g \\\\\n",
    "-d_i \\le -\\bar{d_i} + \\hat{d_i} \\\\\n",
    "d_i \\le \\bar{d_i} + \\hat{d_i} \\\\\n",
    "-w_i + d_i \\le \\bar{d_i} \\\\\n",
    "-w_i - d_i \\le -\\bar{d_i}$\n"
   ]
  }
 ],
 "metadata": {
  "kernelspec": {
   "display_name": "Python 3",
   "language": "python",
   "name": "python3"
  },
  "language_info": {
   "codemirror_mode": {
    "name": "ipython",
    "version": 3
   },
   "file_extension": ".py",
   "mimetype": "text/x-python",
   "name": "python",
   "nbconvert_exporter": "python",
   "pygments_lexer": "ipython3",
   "version": "3.6.6"
  }
 },
 "nbformat": 4,
 "nbformat_minor": 2
}
