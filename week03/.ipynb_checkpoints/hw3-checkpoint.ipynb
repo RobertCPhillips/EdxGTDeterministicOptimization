{
 "cells": [
  {
   "cell_type": "markdown",
   "metadata": {},
   "source": [
    "# Week 3 Homework"
   ]
  },
  {
   "cell_type": "markdown",
   "metadata": {},
   "source": [
    "## Question 1\n",
    "For each of the following cases, give an example demonstrating that problem $\\mathbf{P}$ may have an optimal solution, and an example demonstrating that $\\mathbf{P}$ may not have an optimal solution, or argue that such an example does not exist.\n",
    "\n",
    "$P: min \\ f(x) \\ s.t. \\ x \\in X, X \\subseteq \\mathbf{R}^n$\n",
    "\n",
    "#### (a) The function f is discontinuous and the set X is compact.\n",
    "\n",
    "Given that the set is compact, we know that it is bounded and closed.  Therefore, $\\mathbf{P}$ will not have a solution if the discontinuity exists where the minimum would be, and $\\mathbf{P}$ will have a solution if the discontinuity exists elsewhere. \n",
    "\n",
    "#### (b) The function f is continuous and the set X is not closed.\n",
    "\n",
    "If the set is not closed, then we may have an interval such as $-1 \\lt x \\le 1$.  If $f(x) = x$ then $\\mathbf{P}$ does not have a solution since we can always choose a smaller $x$.  However, if $f(x) = x^2$ then $\\mathbf{P}$ does have a solution at $x = 0$.\n",
    "\n",
    "#### (c) The function f is convex and the set X is not bounded.\n",
    "\n",
    "Given an unbounded set, $\\mathbf{P}$ will have a solution for some convex functions but not others. For example, let $X$ be a set that is not bounded below. $\\mathbf{P}$ would have not a solution for $f(x) = x$.  However, $\\mathbf{P}$ would have a solution for $f(x) = x^2$. \n",
    "\n",
    "#### (d) The function f is convex and the set X is compact.\n",
    "\n",
    "Given a compact set and a convex function, $\\mathbf{P}$ will always have a soution.  There are no examples of where $\\mathbf{P}$ does not have a solution.\n",
    "\n",
    "#### (e) The function f is linear and the set X is not closed.\n",
    "\n",
    "If $X$ is not closed, and $f(x) = a*x + b$, then whether or not $\\mathbf{P}$ has a solution depends on the constant $a$ and the boundry on which $X$ is not closed. For example, if $a \\gt 0$, and $X$ includes the lower bound on its interval, then $\\mathbf{P}$ has a solution.  However, if $a \\gt 0$ and $X$ does not include the lower bound of the interval, then $\\mathbf{P}$ does not have a solution.  \n",
    "\n",
    "#### (f) The function f is linear and the set X is compact.\n",
    "\n",
    "Given a compact set and a linear function, $\\mathbf{P}$ will always have a soution.  There are no examples of where $\\mathbf{P}$ does not have a solution."
   ]
  },
  {
   "cell_type": "markdown",
   "metadata": {},
   "source": [
    "## Question 2\n",
    "For each of the statements below, state whether it is true or is false.\n",
    "\n",
    "#### (a) An optimization problem with a discontinuous objective function and a closed and bounded feasible region can never have an optimal solution.\n",
    "\n",
    "This is false.  The discontinuity doesn't necessarily impact the optimial value.\n",
    "\n",
    "#### (b) Consider the optimization problem $min \\ f(x) \\ s.t. \\ g(x) \\le 0$. Suppose the current optimal objective value is $v$. Now, if I change the right-hand-side of the constraint to 1 and resolve the problem, the new optimal objective value will be less than or equal to $v$.\n",
    "\n",
    "This is true.  Increasing the upper bound on the constraint still includes the original constraint, therefore the optimal value would only stay the same or improve.\n",
    "\n",
    "#### (c) Consider an optimization problem $(P) \\ : \\ min \\ f(x) \\ s.t. \\ x \\in X$, where $X$ is a non-empty closed convex set. Suppose that the problem $(P)$ has the property that every local optimal solution is also globally optimal then $f(x)$ must be a convex function.\n",
    "\n",
    "#### (d) The problem $(P): min \\ x + y \\ subject \\ to \\ x^2 + y^2 \\le 4$ is a convex optimization problem.\n",
    "\n",
    "#### (e) If I solve an optimization problem, then add a new constraint to it and solve it again, the solution must change.\n",
    "\n",
    "This is false.  Adding a constraint doesn't necessarily change the feasible region, and doesn't necessarily change the optimal solution.\n",
    "\n",
    "#### (f) Consider the following optimization problem: $min[f(x)]^2 \\ s.t. \\ x \\in X$ where $f(x)$ is a nonconvex function and $X$ is a non-empty set. Suppose at a feasible solution $x^∗ \\in X$ the objective value is 0, then $x^∗$ must be an optimal solution.\n",
    "\n",
    "#### (g) If I maximize a univariate convex function over a closed interval then there has to be an optimal solution which is one of the end points."
   ]
  },
  {
   "cell_type": "code",
   "execution_count": null,
   "metadata": {},
   "outputs": [],
   "source": []
  }
 ],
 "metadata": {
  "kernelspec": {
   "display_name": "Python 3",
   "language": "python",
   "name": "python3"
  },
  "language_info": {
   "codemirror_mode": {
    "name": "ipython",
    "version": 3
   },
   "file_extension": ".py",
   "mimetype": "text/x-python",
   "name": "python",
   "nbconvert_exporter": "python",
   "pygments_lexer": "ipython3",
   "version": "3.6.6"
  }
 },
 "nbformat": 4,
 "nbformat_minor": 2
}
