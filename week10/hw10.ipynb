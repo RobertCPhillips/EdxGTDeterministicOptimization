{
 "cells": [
  {
   "cell_type": "markdown",
   "metadata": {},
   "source": [
    "# HW 10\n",
    "Given the following formulation:\n",
    "\n",
    "$\\begin{align} \\\\\n",
    "\\text{min} & \\sum_{j=1}^n x_j \\\\\n",
    "\\text{s.t.} & \\sum_{j=1}^n A_jx_j = b \\\\\n",
    "& x_j \\ge 0 \\forall j = 1,...,n \\\\\n",
    "\\end{align}$\n",
    "\n",
    "The problem has the following data. Customers need three types of smaller widths: $w_1 = 5, w_2 = 12, w_3 = 16$ with quantities $b_1 = 150, b_2 = 100, b_3 = 80$. The width of a big roll is $W = 200$.\n",
    "\n",
    "Assume the column generation algorithm starts from the following initial patterns:\n",
    "\n",
    "$A_1 = [40 \\ 0 \\ 0]^T A_2=[0 \\ 16 \\ 0]^T A_3=[0 \\ 0 \\ 12]^T$\n",
    "\n",
    "#### 1. Write down the restricted master problem (RMP) using these patterns.\n",
    "\n",
    "$\\begin{align} \\\\\n",
    "\\text{min  } & x_1 + x_2 + x_3 \\\\\n",
    "\\text{s.t.  } & 40x_1 = 150 \\\\\n",
    "& 16x_2 = 100 \\\\\n",
    "& 12x_3 = 80 \\\\\n",
    "& x_1,x_2,x_3 \\ge 0 \\\\\n",
    "\\end{align}$\n",
    "\n",
    "#### 2. Solve RMP in CVX."
   ]
  },
  {
   "cell_type": "code",
   "execution_count": 17,
   "metadata": {},
   "outputs": [
    {
     "name": "stdout",
     "output_type": "stream",
     "text": [
      "The solution status is optimal\n",
      "The optimal value is 17\n",
      "The optimal [x1, x2, x3] is [3.75, 6.25, 6.67]\n",
      "\n",
      "B is\n",
      " [[40.  0.  0.]\n",
      " [ 0. 16.  0.]\n",
      " [ 0.  0. 12.]]\n",
      "\n",
      "The inverse of B is\n",
      " [[ 0.025       0.         -0.        ]\n",
      " [ 0.          0.0625     -0.        ]\n",
      " [ 0.          0.          0.08333333]]\n",
      "\n",
      "The optimal dual solution is\n",
      " [0.025      0.0625     0.08333333]\n"
     ]
    }
   ],
   "source": [
    "import cvxpy as cp\n",
    "import numpy as np\n",
    "from scipy import linalg\n",
    "\n",
    "#setup variables and coeffcients\n",
    "x = cp.Variable(3, 1)\n",
    "A = np.array([[40.,0.,0.],[0.,16.,0.],[0.,0.,12.]])\n",
    "b = np.array([150., 100., 80.])\n",
    "W = 200.\n",
    "w = np.array([5., 12., 16.])\n",
    "c = np.array([1., 1., 1.])\n",
    "\n",
    "#setup objective and constraints\n",
    "objective = cp.Minimize(cp.sum_entries(x))\n",
    "constraints = [A*x == b, x >= 0.]\n",
    "\n",
    "# solve\n",
    "prob = cp.Problem(objective, constraints)\n",
    "result = prob.solve()\n",
    "\n",
    "# display optimal value of variables\n",
    "print('The solution status is', prob.status)\n",
    "print('The optimal value is', round(result))\n",
    "print('The optimal [x1, x2, x3] is', [round(xx[0,0],2) for xx in x.value])\n",
    "print('\\nB is\\n', A)\n",
    "\n",
    "BI =  linalg.inv(A)\n",
    "y = c.dot(BI)\n",
    "print('\\nThe inverse of B is\\n', BI)\n",
    "print('\\nThe optimal dual solution is\\n', y)"
   ]
  },
  {
   "cell_type": "markdown",
   "metadata": {},
   "source": [
    "#### 3. Write down the pricing problem.\n",
    "The pricing problem is of the form:\n",
    "\n",
    "$\\begin{align} \\\\\n",
    "\\text{max  } & a_1 + a_2 + a_3 \\\\\n",
    "\\text{s.t.  } & 5a_1 + 12a_2 + 16a_3 \\le 200 \\\\\n",
    "& a_1, a_2, a_3 \\ge 0, \\text{integers}\n",
    "\\end{align}$\n",
    "\n",
    "#### 4. Solve the pricing problem in CVX."
   ]
  },
  {
   "cell_type": "code",
   "execution_count": 37,
   "metadata": {},
   "outputs": [
    {
     "name": "stdout",
     "output_type": "stream",
     "text": [
      "The solution status is optimal\n",
      "The optimal value is 1\n",
      "The optimal [a1, a2, a3] is [0.0, 6.16, 7.88]\n"
     ]
    }
   ],
   "source": [
    "a = cp.Variable(3,1)\n",
    "\n",
    "#setup objective and constraints\n",
    "objective = cp.Maximize(cp.sum_entries(y*a))\n",
    "constraints = [w*a <= W, a >= 0.]\n",
    "\n",
    "# solve\n",
    "prob = cp.Problem(objective, constraints)\n",
    "result = prob.solve()\n",
    "\n",
    "# display optimal value of variables\n",
    "print('The solution status is', prob.status)\n",
    "print('The optimal value is', round(result))\n",
    "print('The optimal [a1, a2, a3] is', [round(aa[0,0],2) for aa in a.value])"
   ]
  },
  {
   "cell_type": "markdown",
   "metadata": {},
   "source": [
    "#### 5.  Augment (RMP) with the new column and solve it in CVX again."
   ]
  },
  {
   "cell_type": "code",
   "execution_count": 42,
   "metadata": {},
   "outputs": [
    {
     "name": "stdout",
     "output_type": "stream",
     "text": [
      "The solution status is optimal\n",
      "The optimal value is 16\n",
      "The optimal [x1, x2, x3, x4] is [3.75, 2.5, 0.0, 10.0]\n",
      "\n",
      "B is\n",
      " [[40.  0.  0.  0.]\n",
      " [ 0. 16.  0.  6.]\n",
      " [ 0.  0. 12.  8.]]\n",
      "\n",
      "The inverse of B is\n",
      " [[ 0.025     0.       -0.      ]\n",
      " [ 0.        0.0625   -0.046875]\n",
      " [ 0.        0.        0.125   ]]\n",
      "\n",
      "The optimal dual solution is\n",
      " [0.025    0.0625   0.078125]\n",
      "The solution status is optimal\n",
      "The optimal value is 1\n",
      "The optimal [a1, a2, a3] is [0.0, 16.67, 0.0]\n"
     ]
    }
   ],
   "source": [
    "#setup variables and coeffcients\n",
    "x = cp.Variable(4, 1)\n",
    "A = np.array([[40.,0.,0.,0],[0.,16.,0.,6.],[0.,0.,12.,8.]])\n",
    "\n",
    "#setup objective and constraints\n",
    "objective = cp.Minimize(cp.sum_entries(x))\n",
    "constraints = [A*x == b, x >= 0.]\n",
    "\n",
    "# solve\n",
    "prob = cp.Problem(objective, constraints)\n",
    "result = prob.solve()\n",
    "\n",
    "# display optimal value of variables\n",
    "print('The solution status is', prob.status)\n",
    "print('The optimal value is', round(result))\n",
    "\n",
    "xs = [round(xx[0,0],2) for xx in x.value]\n",
    "print('The optimal [x1, x2, x3, x4] is', xs)\n",
    "\n",
    "ii = [i for i,e in enumerate(xs) if e != 0]\n",
    "B = A[:, ii]\n",
    "print('\\nB is\\n', B)\n",
    "\n",
    "BI =  linalg.inv(B)\n",
    "y = c.dot(BI)\n",
    "print('\\nThe inverse of B is\\n', BI)\n",
    "print('\\nThe optimal dual solution is\\n', y)\n",
    "\n",
    "a = cp.Variable(3,1)\n",
    "\n",
    "#setup objective and constraints\n",
    "objective = cp.Maximize(cp.sum_entries(y*a))\n",
    "constraints = [w*a <= W, a >= 0.]\n",
    "\n",
    "# solve\n",
    "prob = cp.Problem(objective, constraints)\n",
    "result = prob.solve()\n",
    "\n",
    "# display optimal value of variables\n",
    "print('The solution status is', prob.status)\n",
    "print('The optimal value is', round(result))\n",
    "print('The optimal [a1, a2, a3] is', [round(aa[0,0],2) for aa in a.value])"
   ]
  },
  {
   "cell_type": "code",
   "execution_count": 48,
   "metadata": {},
   "outputs": [
    {
     "name": "stdout",
     "output_type": "stream",
     "text": [
      "The solution status is optimal\n",
      "The optimal value is 16\n",
      "The optimal [x1, x2, x3, x4, x5] is [3.75, 0.0, 0.0, 10.0, 2.35]\n",
      "\n",
      "B is\n",
      " [[40.  0.  0.]\n",
      " [ 0.  6. 17.]\n",
      " [ 0.  8.  0.]]\n",
      "\n",
      "The inverse of B is\n",
      " [[ 0.025      -0.          0.        ]\n",
      " [ 0.         -0.          0.125     ]\n",
      " [ 0.          0.05882353 -0.04411765]]\n",
      "\n",
      "The optimal dual solution is\n",
      " [0.025      0.05882353 0.08088235]\n",
      "The solution status is optimal\n",
      "The optimal value is 1\n",
      "The optimal [a1, a2, a3] is [0.0, 0.0, 12.5]\n"
     ]
    }
   ],
   "source": [
    "#setup variables and coeffcients\n",
    "x = cp.Variable(5, 1)\n",
    "A = np.array([[40.,0.,0.,0,0.],[0.,16.,0.,6.,17.],[0.,0.,12.,8.,0.]])\n",
    "\n",
    "#setup objective and constraints\n",
    "objective = cp.Minimize(cp.sum_entries(x))\n",
    "constraints = [A*x == b, x >= 0.]\n",
    "\n",
    "# solve\n",
    "prob = cp.Problem(objective, constraints)\n",
    "result = prob.solve()\n",
    "\n",
    "# display optimal value of variables\n",
    "print('The solution status is', prob.status)\n",
    "print('The optimal value is', round(result))\n",
    "\n",
    "xs = [round(xx[0,0],2) for xx in x.value]\n",
    "print('The optimal [x1, x2, x3, x4, x5] is', xs)\n",
    "\n",
    "ii = [i for i,e in enumerate(xs) if abs(e) > 1e-6]\n",
    "B = A[:, ii]\n",
    "print('\\nB is\\n', B)\n",
    "\n",
    "BI =  linalg.inv(B)\n",
    "y = c.dot(BI)\n",
    "print('\\nThe inverse of B is\\n', BI)\n",
    "print('\\nThe optimal dual solution is\\n', y)\n",
    "\n",
    "a = cp.Variable(3,1)\n",
    "\n",
    "#setup objective and constraints\n",
    "objective = cp.Maximize(cp.sum_entries(y*a))\n",
    "constraints = [w*a <= W, a >= 0.]\n",
    "\n",
    "# solve\n",
    "prob = cp.Problem(objective, constraints)\n",
    "result = prob.solve()\n",
    "\n",
    "# display optimal value of variables\n",
    "print('The solution status is', prob.status)\n",
    "print('The optimal value is', round(result))\n",
    "print('The optimal [a1, a2, a3] is', [round(aa[0,0],2) for aa in a.value])"
   ]
  },
  {
   "cell_type": "markdown",
   "metadata": {},
   "source": [
    "#### 6. Write down the final optimal solution, the optimal basis, and the optimal objective value."
   ]
  }
 ],
 "metadata": {
  "kernelspec": {
   "display_name": "Python 3",
   "language": "python",
   "name": "python3"
  },
  "language_info": {
   "codemirror_mode": {
    "name": "ipython",
    "version": 3
   },
   "file_extension": ".py",
   "mimetype": "text/x-python",
   "name": "python",
   "nbconvert_exporter": "python",
   "pygments_lexer": "ipython3",
   "version": "3.6.6"
  }
 },
 "nbformat": 4,
 "nbformat_minor": 2
}
