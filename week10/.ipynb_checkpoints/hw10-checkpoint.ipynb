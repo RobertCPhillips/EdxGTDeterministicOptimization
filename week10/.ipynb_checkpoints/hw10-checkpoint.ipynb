{
 "cells": [
  {
   "cell_type": "markdown",
   "metadata": {},
   "source": [
    "# HW 10\n",
    "Given the following formulation:\n",
    "\n",
    "$\\begin{align} \\\\\n",
    "\\text{min} & \\sum_{j=1}^n x_j \\\\\n",
    "\\text{s.t.} & \\sum_{j=1}^n A_jx_j = b \\\\\n",
    "& x_j \\ge 0 \\forall j = 1,...,n \\\\\n",
    "\\end{align}$\n",
    "\n",
    "The problem has the following data. Customers need three types of smaller widths: $w_1 = 5, w_2 = 12, w_3 = 16$ with quantities $b_1 = 150, b_2 = 100, b_3 = 80$. The width of a big roll is $W = 200$.\n",
    "\n",
    "Assume the column generation algorithm starts from the following initial patterns:\n",
    "\n",
    "$A_1 = [40 \\ 0 \\ 0]^T A_2=[0 \\ 16 \\ 0]^T A_3=[0 \\ 0 \\ 12]^T$\n",
    "\n",
    "#### 1. Write down the restricted master problem (RMP) using these patterns.\n",
    "\n",
    "$\\begin{align} \\\\\n",
    "\\text{min  } & x_1 + x_2 + x_3 \\\\\n",
    "\\text{s.t.  } & 40x_1 = 150 \\\\\n",
    "& 16x_2 = 100 \\\\\n",
    "& 12x_3 = 80 \\\\\n",
    "& x_1,x_2,x_3 \\ge 0 \\\\\n",
    "\\end{align}$\n",
    "\n",
    "#### 2. Solve RMP in CVX."
   ]
  },
  {
   "cell_type": "code",
   "execution_count": 8,
   "metadata": {},
   "outputs": [
    {
     "name": "stdout",
     "output_type": "stream",
     "text": [
      "The solution status is optimal\n",
      "The optimal value is 17\n",
      "The optimal [x1, x2, x3] is [3.75, 6.25, 6.67]\n"
     ]
    }
   ],
   "source": [
    "import cvxpy as cp\n",
    "import numpy as np\n",
    "from scipy import linalg\n",
    "\n",
    "#setup variables and coeffcients\n",
    "x = cp.Variable(3, 1)\n",
    "A = np.array([[40.,0.,0.],[0.,16.,0.],[0.,0.,12.]])\n",
    "b = np.array([150., 100., 80.])\n",
    "W = 200.\n",
    "w = np.array([5., 12., 16.])\n",
    "\n",
    "#setup objective and constraints\n",
    "objective = cp.Minimize(cp.sum_entries(x))\n",
    "constraints = [A*x == b, x >= 0.]\n",
    "\n",
    "# solve\n",
    "prob = cp.Problem(objective, constraints)\n",
    "result = prob.solve()\n",
    "\n",
    "# display optimal value of variables\n",
    "print('The solution status is', prob.status)\n",
    "print('The optimal value is', round(result))\n",
    "print('The optimal [x1, x2, x3] is', [round(xx[0,0],2) for xx in x.value])"
   ]
  },
  {
   "cell_type": "markdown",
   "metadata": {},
   "source": [
    "#### 3. Write down the pricing problem.\n",
    "\n",
    "#### 4. Solve the pricing problem in CVX."
   ]
  },
  {
   "cell_type": "code",
   "execution_count": null,
   "metadata": {},
   "outputs": [],
   "source": []
  },
  {
   "cell_type": "markdown",
   "metadata": {},
   "source": [
    "#### 5.  Augment (RMP) with the new column and solve it in CVX again."
   ]
  },
  {
   "cell_type": "code",
   "execution_count": null,
   "metadata": {},
   "outputs": [],
   "source": []
  },
  {
   "cell_type": "markdown",
   "metadata": {},
   "source": [
    "#### 6. Write down the final optimal solution, the optimal basis, and the optimal objective value."
   ]
  }
 ],
 "metadata": {
  "kernelspec": {
   "display_name": "Python 3",
   "language": "python",
   "name": "python3"
  },
  "language_info": {
   "codemirror_mode": {
    "name": "ipython",
    "version": 3
   },
   "file_extension": ".py",
   "mimetype": "text/x-python",
   "name": "python",
   "nbconvert_exporter": "python",
   "pygments_lexer": "ipython3",
   "version": "3.6.6"
  }
 },
 "nbformat": 4,
 "nbformat_minor": 2
}
