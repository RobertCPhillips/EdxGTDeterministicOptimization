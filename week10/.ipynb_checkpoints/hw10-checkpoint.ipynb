{
 "cells": [
  {
   "cell_type": "markdown",
   "metadata": {},
   "source": [
    "# HW 10\n",
    "Given the following formulation:\n",
    "\n",
    "$\\begin{aligned} \\\\\n",
    "\\text{min} & \\sum_{j=1}^n x_j \\\\\n",
    "\\text{s.t.} & \\sum_{j=1}^n A_jx_j = b \\\\\n",
    "& x_j \\ge 0 \\forall j = 1,...,n \\\\\n",
    "\\end{aligned}$\n",
    "\n",
    "The problem has the following data. Customers need three types of smaller widths: $w_1 = 5, w_2 = 12, w_3 = 16$ with quantities $b_1 = 150, b_2 = 100, b_3 = 80$. The width of a big roll is $W = 200$.\n",
    "\n",
    "Assume the column generation algorithm starts from the following initial patterns:\n",
    "\n",
    "$A_1 = [40 \\ 0 \\ 0]^T A_2=[0 \\ 16 \\ 0]^T A_3=[0 \\ 0 \\ 12]^T$\n",
    "\n",
    "#### 1. Write down the restricted master problem (RMP) using these patterns.\n",
    "\n",
    "$\\begin{aligned} \\\\\n",
    "\\text{min  } & x_1 + x_2 + x_3 \\\\\n",
    "\\text{s.t.  } & 40x_1 = 150 \\\\\n",
    "& 16x_2 = 100 \\\\\n",
    "& 12x_3 = 80 \\\\\n",
    "& x_1,x_2,x_3 \\ge 0 \\\\\n",
    "\\end{aligned}$\n",
    "\n",
    "\n",
    "#### 2. Solve RMP in CVX."
   ]
  },
  {
   "cell_type": "code",
   "execution_count": 1,
   "metadata": {},
   "outputs": [
    {
     "name": "stdout",
     "output_type": "stream",
     "text": [
      "The solution status is optimal\n",
      "The optimal value is 17.0\n",
      "The optimal [x1, x2, x3] is [3.75, 6.25, 6.67]\n",
      "\n",
      "B is\n",
      " [[40.  0.  0.]\n",
      " [ 0. 16.  0.]\n",
      " [ 0.  0. 12.]]\n",
      "\n",
      "The inverse of B is\n",
      " [[ 0.025       0.         -0.        ]\n",
      " [ 0.          0.0625     -0.        ]\n",
      " [ 0.          0.          0.08333333]]\n",
      "\n",
      "The optimal dual solution is\n",
      " [0.025      0.0625     0.08333333]\n"
     ]
    }
   ],
   "source": [
    "import cvxpy as cp\n",
    "import numpy as np\n",
    "from scipy import linalg\n",
    "\n",
    "#setup variables and coeffcients\n",
    "x = cp.Variable(3, 1)\n",
    "A = np.array([[40.,0.,0.],[0.,16.,0.],[0.,0.,12.]])\n",
    "b = np.array([150., 100., 80.])\n",
    "W = 200.\n",
    "w = np.array([5., 12., 16.])\n",
    "c = np.array([1., 1., 1.])\n",
    "\n",
    "#setup objective and constraints\n",
    "objective = cp.Minimize(cp.sum(x))\n",
    "constraints = [A*x == b, x >= 0.]\n",
    "\n",
    "# solve\n",
    "prob = cp.Problem(objective, constraints)\n",
    "result = prob.solve()\n",
    "\n",
    "# display optimal value of variables\n",
    "print('The solution status is', prob.status)\n",
    "print('The optimal value is', round(result))\n",
    "print('The optimal [x1, x2, x3] is', [round(xx,2) for xx in x.value])\n",
    "print('\\nB is\\n', A)\n",
    "\n",
    "BI =  linalg.inv(A)\n",
    "y = c.dot(BI)\n",
    "print('\\nThe inverse of B is\\n', BI)\n",
    "print('\\nThe optimal dual solution is\\n', y)"
   ]
  },
  {
   "cell_type": "markdown",
   "metadata": {},
   "source": [
    "#### 3. Write down the pricing problem.\n",
    "The pricing problem is of the form:\n",
    "\n",
    "$\\begin{aligned} \\\\\n",
    "\\text{max  } & .025a_1 + .0625a_2 + .083a_3 \\\\\n",
    "\\text{s.t.  } & 5a_1 + 12a_2 + 16a_3 \\le 200 \\\\\n",
    "& a_1, a_2, a_3 \\ge 0, \\text{integers}\n",
    "\\end{aligned}$\n",
    "\n",
    "#### 4. Solve the pricing problem in CVX."
   ]
  },
  {
   "cell_type": "code",
   "execution_count": 2,
   "metadata": {},
   "outputs": [
    {
     "name": "stdout",
     "output_type": "stream",
     "text": [
      "The solution status is optimal_inaccurate\n",
      "The optimal value is 1.0\n",
      "The optimal [a1, a2, a3] is [0.0, 11.0, 4.0]\n"
     ]
    }
   ],
   "source": [
    "a = cp.Variable(3,1, integer=True)\n",
    "\n",
    "#setup objective and constraints\n",
    "objective = cp.Maximize(cp.sum(y*a))\n",
    "constraints = [w*a <= W, a >= 0.]\n",
    "\n",
    "# solve\n",
    "prob = cp.Problem(objective, constraints)\n",
    "result = prob.solve()\n",
    "\n",
    "# display optimal value of variables\n",
    "print('The solution status is', prob.status)\n",
    "print('The optimal value is', round(result))\n",
    "print('The optimal [a1, a2, a3] is', [round(aa,2) for aa in a.value])"
   ]
  },
  {
   "cell_type": "markdown",
   "metadata": {},
   "source": [
    "We can see in the above that the optimal solution is non-negative, therefore we have the optimal set of columns and there is no need to continue."
   ]
  },
  {
   "cell_type": "markdown",
   "metadata": {},
   "source": [
    "#### 6. Write down the final optimal solution, the optimal basis, and the optimal objective value.\n",
    "The optimal value is $17.0$\n",
    "\n",
    "The optimal $\\{x_1, x_2, x_3\\}$ is $\\{3.75, 6.25, 6.67\\}$\n",
    "\n",
    "The optimal basis is:\n",
    "\n",
    "$\\begin{bmatrix}40 & 0 & 0 \\\\ 0 & 16 & 0 \\\\ 0 & 0 & 12\\end{bmatrix}$"
   ]
  }
 ],
 "metadata": {
  "kernelspec": {
   "display_name": "Python 3",
   "language": "python",
   "name": "python3"
  },
  "language_info": {
   "codemirror_mode": {
    "name": "ipython",
    "version": 3
   },
   "file_extension": ".py",
   "mimetype": "text/x-python",
   "name": "python",
   "nbconvert_exporter": "python",
   "pygments_lexer": "ipython3",
   "version": "3.6.6"
  }
 },
 "nbformat": 4,
 "nbformat_minor": 2
}
